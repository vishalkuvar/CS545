{
 "cells": [
  {
   "cell_type": "markdown",
   "metadata": {},
   "source": [
    "$\\newcommand{\\xv}{\\mathbf{x}}\n",
    "\\newcommand{\\Xv}{\\mathbf{X}}\n",
    "\\newcommand{\\Xvh}{\\hat{\\mathbf{X}}}\n",
    "\\newcommand{\\yv}{\\mathbf{y}}\n",
    "\\newcommand{\\Yv}{\\mathbf{Y}}\n",
    "\\newcommand{\\av}{\\mathbf{a}}\n",
    "\\newcommand{\\Wv}{\\mathbf{W}}\n",
    "\\newcommand{\\wv}{\\mathbf{w}}\n",
    "\\newcommand{\\gv}{\\mathbf{g}}\n",
    "\\newcommand{\\Hv}{\\mathbf{H}}\n",
    "\\newcommand{\\dv}{\\mathbf{d}}\n",
    "\\newcommand{\\Vv}{\\mathbf{V}}\n",
    "\\newcommand{\\vv}{\\mathbf{v}}\n",
    "\\newcommand{\\Uv}{\\mathbf{U}}\n",
    "\\newcommand{\\tv}{\\mathbf{t}}\n",
    "\\newcommand{\\Tv}{\\mathbf{T}}\n",
    "\\newcommand{\\zv}{\\mathbf{z}}\n",
    "\\newcommand{\\Zv}{\\mathbf{Z}}\n",
    "\\newcommand{\\Zvh}{\\hat{\\mathbf{Z}}}\n",
    "\\newcommand{\\Ev}{\\mathbf{E}}\n",
    "\\newcommand{\\onev}{\\mathbf{1}}\n",
    "\\newcommand{\\twov}{\\mathbf{2}}\n",
    "\\newcommand{\\muv}{\\boldsymbol{\\mu}}\n",
    "\\newcommand{\\sigmav}{\\boldsymbol{\\sigma}}\n",
    "\\newcommand{\\phiv}{\\boldsymbol{\\phi}}\n",
    "\\newcommand{\\Phiv}{\\boldsymbol{\\Phi}}\n",
    "\\newcommand{\\Sigmav}{\\boldsymbol{\\Sigma}}\n",
    "\\newcommand{\\Lambdav}{\\boldsymbol{\\Lambda}}\n",
    "\\newcommand{\\half}{\\frac{1}{2}}\n",
    "\\newcommand{\\argmax}[1]{\\underset{#1}{\\operatorname{argmax}}}\n",
    "\\newcommand{\\argmin}[1]{\\underset{#1}{\\operatorname{argmin}}}\n",
    "\\newcommand{\\dimensionbar}[1]{\\underset{#1}{\\operatorname{|}}}\n",
    "$"
   ]
  },
  {
   "cell_type": "markdown",
   "metadata": {},
   "source": [
    "# Assignment 2"
   ]
  },
  {
   "cell_type": "markdown",
   "metadata": {},
   "source": [
    "## Importing libraries"
   ]
  },
  {
   "cell_type": "code",
   "execution_count": 1,
   "metadata": {},
   "outputs": [],
   "source": [
    "import numpy as np\n",
    "import matplotlib.pyplot as plt\n",
    "\n",
    "import pandas\n",
    "import optimizers as opt\n",
    "import time\n",
    "import math"
   ]
  },
  {
   "cell_type": "markdown",
   "metadata": {},
   "source": [
    "## Forward Propogation"
   ]
  },
  {
   "cell_type": "markdown",
   "metadata": {},
   "source": [
    "$$ \n",
    "\\begin{align*}\n",
    "N &= \\text{ number of samples } \\\\\n",
    "I &= \\text{ the number of attributes in each sample }\\\\\n",
    "K &= \\text{ number of units in output layer } \\\\\n",
    "H_1 &= \\text{ number of units in first hidden layer }\\\\\n",
    "H_2 &= \\text{ number of units in second hidden layer }\\\\\n",
    "~\\\\\n",
    "\\Zv_1 &= \\tanh(\\Xvh\\, \\Uv) \\\\\n",
    "\\Zv_2 &= \\tanh(\\Zvh_1\\, \\Vv) \\\\\n",
    "\\Yv &= \\Zvh_2\\, \\Wv\\\\\n",
    "\\end{align*}\n",
    "$$"
   ]
  },
  {
   "cell_type": "code",
   "execution_count": 2,
   "metadata": {},
   "outputs": [],
   "source": [
    "def network(w, n_inputs, n_hiddens_1, n_hiddens_2, n_outputs, X, all_outputs=False):\n",
    "    \n",
    "    n_U = (n_inputs + 1) * n_hiddens_1\n",
    "    n_V = (n_hiddens_1 + 1) * n_hiddens_2\n",
    "    n_W = (n_hiddens_2 + 1) * n_outputs\n",
    "    \n",
    "    U = w[:n_U].reshape((n_inputs + 1, n_hiddens_1))\n",
    "    V = w[n_U: n_V + n_U].reshape((n_hiddens_1 + 1, n_hiddens_2))\n",
    "    W = w[n_V + n_U:].reshape((n_hiddens_2 + 1, n_outputs))\n",
    "    \n",
    "    Z1 = np.tanh(np.insert(X, 0, 1, axis = 1) @ U)\n",
    "    Z2 = np.tanh(np.insert(Z1,  0, 1, axis = 1) @ V)\n",
    "    Y = np.insert(Z2, 0, 1, axis = 1) @ W\n",
    "    \n",
    "    return (Y, Z1, Z2) if all_outputs else Y"
   ]
  },
  {
   "cell_type": "markdown",
   "metadata": {},
   "source": [
    "## Backward Propogation"
   ]
  },
  {
   "cell_type": "markdown",
   "metadata": {},
   "source": [
    "$$\n",
    "\\begin{align*}\n",
    "\\nabla_\\Yv E_{n,k} &= \\frac{-2}{NK} (\\Tv_{n,k} - \\Yv_{n,k})\\\\\n",
    "~\\\\\n",
    "\\nabla_\\Wv E &= \\nabla_\\Yv E \\nabla_\\Wv \\Yv\\\\\n",
    "\\delta_\\Yv &= \\frac{-2}{NK} (\\Tv - \\Yv)\\\\\n",
    "\\nabla_\\Wv E &= \\delta_\\yv\\Zvh_{\\onev}\\\\\n",
    "~\\\\\n",
    "\\nabla_\\Vv E &= \\nabla_\\Yv E \\nabla_\\Zv{_\\twov} Y \\nabla_\\Vv \\Zv_\\twov\\\\\n",
    "\\delta_\\Zv{_\\twov} &= \\delta_\\yv \\Wv (\\onev - {\\Zv_\\twov}^2)\\\\\n",
    "\\nabla_\\Vv E &= \\delta_\\Zv{_\\twov} \\Zvh_\\onev\\\\\n",
    "~\\\\\n",
    "\\nabla_\\Uv E &= \\nabla_\\Yv E \\nabla_\\Zv{_\\twov} Y \\nabla_\\Zv{_\\onev} \\Zv_\\twov \\nabla_\\Uv \\Zv_{\\onev}\\\\\n",
    "\\delta_\\Zv{_\\onev} &= \\delta_\\Zv{_\\twov} \\Vv (\\onev - {\\Zv_\\onev}^2)\\\\\n",
    "\\nabla_\\Uv E &= \\delta_\\Zv{_\\onev} \\Xvh\\\\\n",
    "\\end{align*}\n",
    "$$"
   ]
  },
  {
   "cell_type": "code",
   "execution_count": 3,
   "metadata": {},
   "outputs": [],
   "source": [
    "def error_gradient(w, n_inputs, n_hiddens_1, n_hiddens_2, n_outputs, X, T):\n",
    "    \n",
    "    Y, Z1, Z2 = network(w, n_inputs, n_hiddens_1, n_hiddens_2, n_outputs, X, all_outputs=True)\n",
    "    n_samples = X.shape[0]\n",
    "    Z1hat = np.insert(Z1, 0, 1, axis = 1)\n",
    "    Z2hat = np.insert(Z2, 0, 1, axis = 1)\n",
    "    Xhat = np.insert(X, 0, 1, axis = 1)\n",
    "    n_U = (n_inputs + 1) * n_hiddens_1\n",
    "    n_V = (n_hiddens_1 + 1) * n_hiddens_2\n",
    "    n_W = (n_hiddens_2 + 1) * n_outputs\n",
    "    \n",
    "    delta_y = -2 * (T - Y) / (n_samples * n_outputs)\n",
    "    dedw = Z2hat.T @ delta_y\n",
    "    \n",
    "    W = w[n_V + n_U:].reshape((n_hiddens_2 + 1, n_outputs))\n",
    "    delta_z2 = (delta_y @ W[1:, :].T) * (1 - Z2 ** 2)\n",
    "    dedv = Z1hat.T @ delta_z2\n",
    "    \n",
    "    V = w[n_U: n_V + n_U].reshape((n_hiddens_1 + 1, n_hiddens_2))\n",
    "    #delta_z1 = (delta_z2 * (1 - Z1 ** 2)) @ V[1:, :]\n",
    "    delta_z1 = (delta_z2 @ V[1:, :].T) * (1 - Z1 ** 2)\n",
    "    dedu = Xhat.T @ delta_z1\n",
    "    \n",
    "    change_in_weights = np.hstack((dedu.flatten(), dedv.flatten(), dedw.flatten()))\n",
    "    \n",
    "    return change_in_weights"
   ]
  },
  {
   "cell_type": "markdown",
   "metadata": {},
   "source": [
    "## Mean Square Error"
   ]
  },
  {
   "cell_type": "code",
   "execution_count": 4,
   "metadata": {},
   "outputs": [],
   "source": [
    "def mse(w, n_inputs, n_hiddens_1, n_hiddens_2, n_outputs, X, T):\n",
    "    Y = network(w, n_inputs, n_hiddens_1, n_hiddens_2, n_outputs, X, False)\n",
    "    return np.mean((T - Y)**2)"
   ]
  },
  {
   "cell_type": "markdown",
   "metadata": {},
   "source": [
    "## Preparing Data"
   ]
  },
  {
   "cell_type": "code",
   "execution_count": 5,
   "metadata": {},
   "outputs": [
    {
     "name": "stdout",
     "output_type": "stream",
     "text": [
      "data.shape = (443, 2)\n"
     ]
    },
    {
     "data": {
      "text/plain": [
       "array([[18. ,  2.6],\n",
       "       [19. ,  2. ],\n",
       "       [20. ,  2.2],\n",
       "       [21. ,  2.2],\n",
       "       [22. ,  1.6],\n",
       "       [23. ,  1.2],\n",
       "       [ 0. ,  1.2],\n",
       "       [ 1. ,  1. ],\n",
       "       [ 2. ,  0.9],\n",
       "       [ 3. ,  0.6]])"
      ]
     },
     "execution_count": 5,
     "metadata": {},
     "output_type": "execute_result"
    }
   ],
   "source": [
    "data = pandas.read_csv('AirQualityUCI.csv', delimiter=';', decimal=',', usecols=range(15), na_values=-200)\n",
    "data = data[['Time', 'CO(GT)']]\n",
    "data = data [:23 * 20]  # first 20 days of data\n",
    "data = data.dropna(axis=0)\n",
    "print('data.shape =', data.shape)\n",
    "\n",
    "hour = [int(t[:2]) for t in data['Time']]\n",
    "X = np.array(hour).reshape(-1, 1)\n",
    "CO = data['CO(GT)']\n",
    "T = np.array(CO).reshape(-1, 1)\n",
    "np.hstack((X, T))[:10]"
   ]
  },
  {
   "cell_type": "markdown",
   "metadata": {},
   "source": [
    "## Standardizing Data"
   ]
  },
  {
   "cell_type": "code",
   "execution_count": 6,
   "metadata": {},
   "outputs": [],
   "source": [
    "standardize = True\n",
    "\n",
    "if standardize:\n",
    "    X_mean = X.mean(axis=0)\n",
    "    X_std = X.std(axis=0)\n",
    "    \n",
    "    X = (X - X_mean) / X_std"
   ]
  },
  {
   "cell_type": "markdown",
   "metadata": {},
   "source": [
    "## Defining the hyperparameters"
   ]
  },
  {
   "cell_type": "code",
   "execution_count": 7,
   "metadata": {},
   "outputs": [],
   "source": [
    "n_inputs = X.shape[1]\n",
    "n_hiddens_1 = 5\n",
    "n_hiddens_2 = 5\n",
    "n_outputs = T.shape[1]"
   ]
  },
  {
   "cell_type": "code",
   "execution_count": 8,
   "metadata": {},
   "outputs": [],
   "source": [
    "n_U = (n_inputs + 1) * n_hiddens_1\n",
    "n_V = (n_hiddens_1 + 1) * n_hiddens_2\n",
    "n_W = (n_hiddens_2 + 1) * n_outputs\n",
    "\n",
    "initial_w = np.random.uniform(-0.1, 0.1, n_U + n_V + n_W)"
   ]
  },
  {
   "cell_type": "markdown",
   "metadata": {},
   "source": [
    "## Running Gradient Descent"
   ]
  },
  {
   "cell_type": "code",
   "execution_count": 9,
   "metadata": {},
   "outputs": [
    {
     "name": "stdout",
     "output_type": "stream",
     "text": [
      "SGD final error is 1.150 and it took 1.16 seconds\n",
      "Adam final error is 0.916 and it took 1.17 seconds\n",
      "SCG final error is 0.911 and it took 2.27 seconds\n"
     ]
    }
   ],
   "source": [
    "n_iterations = 2000\n",
    "\n",
    "result_sgd = opt.sgd(initial_w,\n",
    "                     mse, error_gradient, fargs=[n_inputs, n_hiddens_1, n_hiddens_2, n_outputs, X, T],\n",
    "                     n_iterations=n_iterations, learning_rate=1e-1, momentum_rate=0.2, \n",
    "                     save_wtrace=True)\n",
    "print(f'SGD final error is {result_sgd[\"ftrace\"][-1]:.3f} and it took {result_sgd[\"time\"]:.2f} seconds')\n",
    "\n",
    "result_adam = opt.adam(initial_w, \n",
    "                       mse, error_gradient, fargs=[n_inputs, n_hiddens_1, n_hiddens_2, n_outputs, X, T],\n",
    "                       n_iterations=n_iterations, learning_rate=1e-2, \n",
    "                       save_wtrace=True)\n",
    "print(f'Adam final error is {result_adam[\"ftrace\"][-1]:.3f} and it took {result_adam[\"time\"]:.2f} seconds')\n",
    "\n",
    "result_scg = opt.scg(initial_w,\n",
    "                     mse, error_gradient, fargs=[n_inputs, n_hiddens_1, n_hiddens_2, n_outputs, X, T],\n",
    "                     n_iterations=n_iterations,\n",
    "                     save_wtrace=True)\n",
    "print(f'SCG final error is {result_scg[\"ftrace\"][-1]:.3f} and it took {result_scg[\"time\"]:.2f} seconds')"
   ]
  },
  {
   "cell_type": "code",
   "execution_count": 10,
   "metadata": {},
   "outputs": [
    {
     "data": {
      "image/png": "[encoded data removed]",
      "text/plain": [
       "<Figure size 1440x576 with 2 Axes>"
      ]
     },
     "metadata": {
      "needs_background": "light"
     },
     "output_type": "display_data"
    }
   ],
   "source": [
    "plt.figure(figsize=(20, 8))\n",
    "plt.subplot(1, 2, 1)\n",
    "plt.plot(result_sgd['ftrace'], label='SGD')\n",
    "plt.plot(result_adam['ftrace'], label='Adam')\n",
    "plt.plot(result_scg['ftrace'], label='SCG')\n",
    "plt.legend()\n",
    "plt.xlabel('Iteration')\n",
    "plt.ylabel('MSE')\n",
    "plt.ylim(0, 4)\n",
    "\n",
    "plt.subplot(1, 2, 2)\n",
    "if standardize:\n",
    "    plt.plot(X * X_std + X_mean, T, 'k.')  # unstandardize X\n",
    "else:\n",
    "    plt.plot(X, T, 'k.')\n",
    "xs = np.linspace(0, 23, 100).reshape((-1, 1))\n",
    "xs_standardized = (xs - X_mean) / X_std if standardize else xs\n",
    "plt.plot(xs, network(result_sgd['w'], n_inputs, n_hiddens_1, n_hiddens_2, n_outputs, xs_standardized), label='SGD')\n",
    "plt.plot(xs, network(result_adam['w'], n_inputs, n_hiddens_1, n_hiddens_2, n_outputs, xs_standardized), label='Adam')\n",
    "plt.plot(xs, network(result_scg['w'], n_inputs, n_hiddens_1, n_hiddens_2, n_outputs, xs_standardized), label='SCG')\n",
    "plt.legend()\n",
    "plt.xlabel('Hour')\n",
    "plt.ylabel('CO');"
   ]
  },
  {
   "cell_type": "markdown",
   "metadata": {},
   "source": [
    "## Testing with multiple hyperparameters"
   ]
  },
  {
   "cell_type": "code",
   "execution_count": 11,
   "metadata": {
    "scrolled": false
   },
   "outputs": [
    {
     "data": {
      "text/html": [
       "<div>\n",
       "<style scoped>\n",
       "    .dataframe tbody tr th:only-of-type {\n",
       "        vertical-align: middle;\n",
       "    }\n",
       "\n",
       "    .dataframe tbody tr th {\n",
       "        vertical-align: top;\n",
       "    }\n",
       "\n",
       "    .dataframe thead th {\n",
       "        text-align: right;\n",
       "    }\n",
       "</style>\n",
       "<table border=\"1\" class=\"dataframe\">\n",
       "  <thead>\n",
       "    <tr style=\"text-align: right;\">\n",
       "      <th></th>\n",
       "      <th>Iterations</th>\n",
       "      <th>nh1</th>\n",
       "      <th>nh2</th>\n",
       "      <th>lr</th>\n",
       "      <th>algo</th>\n",
       "      <th>mse</th>\n",
       "    </tr>\n",
       "  </thead>\n",
       "  <tbody>\n",
       "    <tr>\n",
       "      <th>690</th>\n",
       "      <td>1000</td>\n",
       "      <td>10</td>\n",
       "      <td>12</td>\n",
       "      <td>0</td>\n",
       "      <td>scg</td>\n",
       "      <td>0.909827</td>\n",
       "    </tr>\n",
       "    <tr>\n",
       "      <th>683</th>\n",
       "      <td>1000</td>\n",
       "      <td>10</td>\n",
       "      <td>10</td>\n",
       "      <td>0.1</td>\n",
       "      <td>adam</td>\n",
       "      <td>0.909886</td>\n",
       "    </tr>\n",
       "    <tr>\n",
       "      <th>730</th>\n",
       "      <td>1000</td>\n",
       "      <td>12</td>\n",
       "      <td>10</td>\n",
       "      <td>0</td>\n",
       "      <td>scg</td>\n",
       "      <td>0.910317</td>\n",
       "    </tr>\n",
       "    <tr>\n",
       "      <th>680</th>\n",
       "      <td>1000</td>\n",
       "      <td>10</td>\n",
       "      <td>10</td>\n",
       "      <td>0</td>\n",
       "      <td>scg</td>\n",
       "      <td>0.910403</td>\n",
       "    </tr>\n",
       "    <tr>\n",
       "      <th>693</th>\n",
       "      <td>1000</td>\n",
       "      <td>10</td>\n",
       "      <td>12</td>\n",
       "      <td>0.1</td>\n",
       "      <td>adam</td>\n",
       "      <td>0.910878</td>\n",
       "    </tr>\n",
       "    <tr>\n",
       "      <th>640</th>\n",
       "      <td>1000</td>\n",
       "      <td>8</td>\n",
       "      <td>12</td>\n",
       "      <td>0</td>\n",
       "      <td>scg</td>\n",
       "      <td>0.910979</td>\n",
       "    </tr>\n",
       "    <tr>\n",
       "      <th>620</th>\n",
       "      <td>1000</td>\n",
       "      <td>8</td>\n",
       "      <td>8</td>\n",
       "      <td>0</td>\n",
       "      <td>scg</td>\n",
       "      <td>0.912040</td>\n",
       "    </tr>\n",
       "    <tr>\n",
       "      <th>630</th>\n",
       "      <td>1000</td>\n",
       "      <td>8</td>\n",
       "      <td>10</td>\n",
       "      <td>0</td>\n",
       "      <td>scg</td>\n",
       "      <td>0.912076</td>\n",
       "    </tr>\n",
       "    <tr>\n",
       "      <th>720</th>\n",
       "      <td>1000</td>\n",
       "      <td>12</td>\n",
       "      <td>8</td>\n",
       "      <td>0</td>\n",
       "      <td>scg</td>\n",
       "      <td>0.912127</td>\n",
       "    </tr>\n",
       "    <tr>\n",
       "      <th>670</th>\n",
       "      <td>1000</td>\n",
       "      <td>10</td>\n",
       "      <td>8</td>\n",
       "      <td>0</td>\n",
       "      <td>scg</td>\n",
       "      <td>0.912152</td>\n",
       "    </tr>\n",
       "    <tr>\n",
       "      <th>740</th>\n",
       "      <td>1000</td>\n",
       "      <td>12</td>\n",
       "      <td>12</td>\n",
       "      <td>0</td>\n",
       "      <td>scg</td>\n",
       "      <td>0.912174</td>\n",
       "    </tr>\n",
       "    <tr>\n",
       "      <th>643</th>\n",
       "      <td>1000</td>\n",
       "      <td>8</td>\n",
       "      <td>12</td>\n",
       "      <td>0.1</td>\n",
       "      <td>adam</td>\n",
       "      <td>0.912305</td>\n",
       "    </tr>\n",
       "    <tr>\n",
       "      <th>743</th>\n",
       "      <td>1000</td>\n",
       "      <td>12</td>\n",
       "      <td>12</td>\n",
       "      <td>0.1</td>\n",
       "      <td>adam</td>\n",
       "      <td>0.912327</td>\n",
       "    </tr>\n",
       "    <tr>\n",
       "      <th>733</th>\n",
       "      <td>1000</td>\n",
       "      <td>12</td>\n",
       "      <td>10</td>\n",
       "      <td>0.1</td>\n",
       "      <td>adam</td>\n",
       "      <td>0.912404</td>\n",
       "    </tr>\n",
       "    <tr>\n",
       "      <th>723</th>\n",
       "      <td>1000</td>\n",
       "      <td>12</td>\n",
       "      <td>8</td>\n",
       "      <td>0.1</td>\n",
       "      <td>adam</td>\n",
       "      <td>0.912496</td>\n",
       "    </tr>\n",
       "    <tr>\n",
       "      <th>623</th>\n",
       "      <td>1000</td>\n",
       "      <td>8</td>\n",
       "      <td>8</td>\n",
       "      <td>0.1</td>\n",
       "      <td>adam</td>\n",
       "      <td>0.912627</td>\n",
       "    </tr>\n",
       "    <tr>\n",
       "      <th>573</th>\n",
       "      <td>1000</td>\n",
       "      <td>2</td>\n",
       "      <td>8</td>\n",
       "      <td>0.1</td>\n",
       "      <td>adam</td>\n",
       "      <td>0.912713</td>\n",
       "    </tr>\n",
       "    <tr>\n",
       "      <th>633</th>\n",
       "      <td>1000</td>\n",
       "      <td>8</td>\n",
       "      <td>10</td>\n",
       "      <td>0.1</td>\n",
       "      <td>adam</td>\n",
       "      <td>0.912785</td>\n",
       "    </tr>\n",
       "    <tr>\n",
       "      <th>600</th>\n",
       "      <td>1000</td>\n",
       "      <td>8</td>\n",
       "      <td>1</td>\n",
       "      <td>0</td>\n",
       "      <td>scg</td>\n",
       "      <td>0.912813</td>\n",
       "    </tr>\n",
       "    <tr>\n",
       "      <th>583</th>\n",
       "      <td>1000</td>\n",
       "      <td>2</td>\n",
       "      <td>10</td>\n",
       "      <td>0.1</td>\n",
       "      <td>adam</td>\n",
       "      <td>0.912854</td>\n",
       "    </tr>\n",
       "  </tbody>\n",
       "</table>\n",
       "</div>"
      ],
      "text/plain": [
       "     Iterations  nh1  nh2   lr  algo       mse\n",
       "690        1000   10   12    0   scg  0.909827\n",
       "683        1000   10   10  0.1  adam  0.909886\n",
       "730        1000   12   10    0   scg  0.910317\n",
       "680        1000   10   10    0   scg  0.910403\n",
       "693        1000   10   12  0.1  adam  0.910878\n",
       "640        1000    8   12    0   scg  0.910979\n",
       "620        1000    8    8    0   scg  0.912040\n",
       "630        1000    8   10    0   scg  0.912076\n",
       "720        1000   12    8    0   scg  0.912127\n",
       "670        1000   10    8    0   scg  0.912152\n",
       "740        1000   12   12    0   scg  0.912174\n",
       "643        1000    8   12  0.1  adam  0.912305\n",
       "743        1000   12   12  0.1  adam  0.912327\n",
       "733        1000   12   10  0.1  adam  0.912404\n",
       "723        1000   12    8  0.1  adam  0.912496\n",
       "623        1000    8    8  0.1  adam  0.912627\n",
       "573        1000    2    8  0.1  adam  0.912713\n",
       "633        1000    8   10  0.1  adam  0.912785\n",
       "600        1000    8    1    0   scg  0.912813\n",
       "583        1000    2   10  0.1  adam  0.912854"
      ]
     },
     "execution_count": 11,
     "metadata": {},
     "output_type": "execute_result"
    }
   ],
   "source": [
    "results = []\n",
    "for n_iterations in [10, 100, 1000]:\n",
    "    for nh1 in [1, 2, 8, 10, 12]:\n",
    "        for nh2 in [1, 2, 8, 10, 12]:\n",
    "            \n",
    "            n_U = (n_inputs + 1) * nh1\n",
    "            n_V = (nh1 + 1) * nh2\n",
    "            n_W = (nh2 + 1) * n_outputs\n",
    "            initial_w = np.random.uniform(-0.1, 0.1, n_U + n_V + n_W)\n",
    "\n",
    "            result_scg = opt.scg(initial_w, mse, error_gradient, fargs=[n_inputs, nh1, nh2, n_outputs, X, T], n_iterations = n_iterations)\n",
    "            results.append([n_iterations, nh1, nh2, 0, 'scg', result_scg['ftrace'][-1]])\n",
    "            \n",
    "            for lr in [1e-1, 1e-3, 1e-5]:\n",
    "                \n",
    "                result_sgd = opt.sgd(initial_w, mse, error_gradient, fargs=[n_inputs, nh1, nh2, n_outputs, X, T],\n",
    "                     n_iterations=n_iterations, learning_rate=lr, momentum_rate=0)\n",
    "                result_adam = opt.adam(initial_w, mse, error_gradient, fargs=[n_inputs, nh1, nh2, n_outputs, X, T],\n",
    "                                       n_iterations=n_iterations, learning_rate=lr)\n",
    "                results.append([n_iterations, nh1, nh2, 'scg', result_scg['ftrace'][-1]])\n",
    "\n",
    "                results.append([n_iterations, nh1, nh2, lr, 'sgd', result_sgd['ftrace'][-1]])\n",
    "                results.append([n_iterations, nh1, nh2, lr, 'adam', result_adam['ftrace'][-1]])\n",
    "\n",
    "results = pandas.DataFrame(results, columns=('Iterations', 'nh1', 'nh2', 'lr', 'algo', 'mse'))\n",
    "results.sort_values(by = ['mse']).head(20)"
   ]
  },
  {
   "cell_type": "markdown",
   "metadata": {},
   "source": [
    "The best results are observerd when the number of iterations is maximum. SCG performed the best in my tests with ADAM in the second position. ADAM performs well when the learning rate is set to 0.1. A good value of MSE is obtained when the number of hidden units in each layer is between 8 - 12 but there are some exceptions. "
   ]
  },
  {
   "cell_type": "markdown",
   "metadata": {},
   "source": [
    "## Testing with different input and output units"
   ]
  },
  {
   "cell_type": "code",
   "execution_count": 12,
   "metadata": {},
   "outputs": [
    {
     "name": "stdout",
     "output_type": "stream",
     "text": [
      "  Input            Target\n",
      "[0 1 2] \t [0. 4.]\n",
      "[3 4 5] \t [ 1.2 25. ]\n",
      "[6 7 8] \t [ 4.2 64. ]\n",
      "[ 9 10 11] \t [  9. 121.]\n",
      "[12 13 14] \t [ 15.6 196. ]\n"
     ]
    }
   ],
   "source": [
    "X = np.arange(15).reshape((5, 3))\n",
    "T = np.hstack((X[:, 0:1] * 0.1 * X[:, 1:2], X[:, 2:]**2)) # making two target values for each sample\n",
    "T = T.reshape((5, 2))\n",
    "print('  Input            Target')\n",
    "for x, t in zip(X, T):\n",
    "    print(x, '\\t', t)"
   ]
  },
  {
   "cell_type": "code",
   "execution_count": 13,
   "metadata": {},
   "outputs": [
    {
     "name": "stdout",
     "output_type": "stream",
     "text": [
      "SGD final error is 2433.744 and it took 0.28 seconds\n",
      "Adam final error is 3358.151 and it took 0.25 seconds\n",
      "SCG final error is 178.329 and it took 0.39 seconds\n"
     ]
    }
   ],
   "source": [
    "n_hiddens_1 = 50\n",
    "n_hiddens_2 = 3\n",
    "n_iterations = 1000\n",
    "\n",
    "\n",
    "n_inputs = X.shape[1]\n",
    "n_outputs = T.shape[1]\n",
    "\n",
    "n_U = (n_inputs + 1) * n_hiddens_1\n",
    "n_V = (n_hiddens_1 + 1) * n_hiddens_2\n",
    "n_W = (n_hiddens_2 + 1) * n_outputs\n",
    "\n",
    "initial_w = np.random.uniform(-0.1, 0.1, n_U + n_V + n_W)  # range of weights is -0.1 to 0.1\n",
    "\n",
    "result_sgd = opt.sgd(initial_w,\n",
    "                     mse, error_gradient, fargs=[n_inputs, n_hiddens_1, n_hiddens_2, n_outputs, X, T],\n",
    "                     n_iterations=n_iterations, learning_rate=1e-1, momentum_rate=0.2, \n",
    "                     save_wtrace=True)\n",
    "print(f'SGD final error is {result_sgd[\"ftrace\"][-1]:.3f} and it took {result_sgd[\"time\"]:.2f} seconds')\n",
    "\n",
    "result_adam = opt.adam(initial_w, \n",
    "                       mse, error_gradient, fargs=[n_inputs, n_hiddens_1, n_hiddens_2, n_outputs, X, T],\n",
    "                       n_iterations=n_iterations, learning_rate=1e-2, \n",
    "                       save_wtrace=True)\n",
    "print(f'Adam final error is {result_adam[\"ftrace\"][-1]:.3f} and it took {result_adam[\"time\"]:.2f} seconds')\n",
    "\n",
    "result_scg = opt.scg(initial_w,\n",
    "                     mse, error_gradient, fargs=[n_inputs, n_hiddens_1, n_hiddens_2, n_outputs, X, T],\n",
    "                     n_iterations=n_iterations,\n",
    "                     save_wtrace=True)\n",
    "print(f'SCG final error is {result_scg[\"ftrace\"][-1]:.3f} and it took {result_scg[\"time\"]:.2f} seconds')"
   ]
  },
  {
   "cell_type": "code",
   "execution_count": 14,
   "metadata": {},
   "outputs": [
    {
     "data": {
      "text/plain": [
       "array([[-3.09064259e-02, -5.94114015e-02, -8.54876867e-02, ...,\n",
       "         4.37264383e-02, -8.64941427e-02,  4.82359543e-02],\n",
       "       [-3.09064259e-02, -5.94114015e-02, -8.54876867e-02, ...,\n",
       "         4.37264383e-02, -8.64941427e-02,  4.82359543e-02],\n",
       "       [-3.17387299e-02, -5.87195769e-02, -8.59605090e-02, ...,\n",
       "         2.25825990e-01, -8.32733922e-02,  9.10846688e-02],\n",
       "       ...,\n",
       "       [-1.82479774e-01, -1.18926595e-01, -2.01002563e-01, ...,\n",
       "         4.07178578e+01,  3.29352237e+00,  4.01692684e+01],\n",
       "       [-1.82494406e-01, -1.18923815e-01, -2.00986733e-01, ...,\n",
       "         4.07182088e+01,  3.29355669e+00,  4.01696193e+01],\n",
       "       [-1.83232742e-01, -1.18783782e-01, -2.00218575e-01, ...,\n",
       "         4.07376077e+01,  3.29545474e+00,  4.01890167e+01]])"
      ]
     },
     "execution_count": 14,
     "metadata": {},
     "output_type": "execute_result"
    }
   ],
   "source": [
    "result_scg['wtrace']"
   ]
  },
  {
   "cell_type": "code",
   "execution_count": 15,
   "metadata": {},
   "outputs": [
    {
     "data": {
      "text/plain": [
       "(5, 2)"
      ]
     },
     "execution_count": 15,
     "metadata": {},
     "output_type": "execute_result"
    }
   ],
   "source": [
    "w = result_scg['w']\n",
    "\n",
    "Y = network(w, n_inputs, n_hiddens_1, n_hiddens_2, n_outputs, X)\n",
    "Y.shape"
   ]
  },
  {
   "cell_type": "code",
   "execution_count": 16,
   "metadata": {},
   "outputs": [
    {
     "data": {
      "image/png": "[encoded data removed]",
      "text/plain": [
       "<Figure size 864x360 with 3 Axes>"
      ]
     },
     "metadata": {
      "needs_background": "light"
     },
     "output_type": "display_data"
    }
   ],
   "source": [
    "def plot_diagonal(T, Y):\n",
    "    a = min(T.min(), Y.min())\n",
    "    b = max(T.max(), Y.max())\n",
    "    plt.plot([a, b], [a, b], '-', lw=3, alpha=0.5)\n",
    "\n",
    "plt.figure(figsize=(12, 5))\n",
    "\n",
    "plt.subplot(1, 3, 1)\n",
    "plt.plot(result_scg['ftrace'])\n",
    "plt.xlabel('Iteration')\n",
    "plt.ylabel('MSE')\n",
    "plt.title('SCG')\n",
    "\n",
    "plt.subplot(1, 3, 2)\n",
    "plt.plot(T[:, 0], Y[:, 0], '.')\n",
    "plot_diagonal(T[:, 0], Y[:, 0])\n",
    "plt.xlabel('Target')\n",
    "plt.ylabel('Prediction')\n",
    "plt.title('$Y_1$')\n",
    "\n",
    "plt.subplot(1, 3, 3)\n",
    "plt.plot(T[:, 1], Y[:, 1], '.')\n",
    "plot_diagonal(T[:, 1], Y[: 1])\n",
    "plt.xlabel('Target')\n",
    "plt.ylabel('Prediction')\n",
    "plt.title('$Y_2$');"
   ]
  },
  {
   "cell_type": "code",
   "execution_count": 17,
   "metadata": {},
   "outputs": [
    {
     "name": "stdout",
     "output_type": "stream",
     "text": [
      "\n",
      "======================= Code Execution =======================\n",
      "\n",
      "Extracting python code from notebook named 'Kuvar-A2.ipynb' and storing in notebookcode.py\n",
      "Removing all statements that are not function or class defs or import statements.\n",
      "\n",
      "Testing\n",
      "X = np.arange(3 * 4).reshape((3, 4)) * 0.1\n",
      "T = np.hstack(( np.sin(X[:, 0:1]) + X[:, 1:2],\n",
      "                X[:, 2:3] * -0.5,\n",
      "                X[:, 3:4] ** 2))\n",
      "n_inputs = X.shape[1]\n",
      "n_outputs = T.shape[1]\n",
      "n_hiddens_1 = 6\n",
      "n_hiddens_2 = 2\n",
      "n_w = (n_inputs + 1) * n_hiddens_1 + (n_hiddens_1 + 1) * n_hiddens_2 + (n_hiddens_2 + 1) * n_outputs\n",
      "w = (np.arange(n_w) - n_w/2) * 0.01\n",
      "Y = network(w, n_inputs, n_hiddens_1, n_hiddens_2, n_outputs, X)\n",
      "\n",
      "\n",
      "--- 20/20 points. Returned correct values.\n",
      "\n",
      "Testing\n",
      "Y, Z1, Z2 = network(w, n_inputs, n_hiddens_1, n_hiddens_2, n_outputs, X, all_outputs=True)\n",
      "\n",
      "\n",
      "--- 20/20 points. Returned correct values.\n",
      "\n",
      "Testing\n",
      "grad = error_gradient(w, n_inputs, n_hiddens_1, n_hiddens_2, n_outputs, X, T)\n",
      "\n",
      "grad [-0.01004135 -0.0140896  -0.01848553 -0.0232127  -0.02824685 -0.0335556\n",
      " -0.00785947 -0.01100037 -0.01440092 -0.01804931 -0.02192779 -0.02601239\n",
      " -0.00886361 -0.01240933 -0.01624947 -0.02037058 -0.02475247 -0.02936795\n",
      " -0.00986774 -0.01381829 -0.01809803 -0.02269185 -0.02757716 -0.03272351\n",
      " -0.01087188 -0.01522725 -0.01994658 -0.02501312 -0.03040184 -0.03607907\n",
      " -0.11689819 -0.13210337  0.0677528   0.07656248  0.06395863  0.0722746\n",
      "  0.05997313  0.0677706   0.0557992   0.06305375  0.05144169  0.05812953\n",
      "  0.04690754  0.0530058  -0.52109147  0.26220599 -0.33155754  0.12500265\n",
      " -0.05571474  0.08225796  0.13365384 -0.05939052  0.08801306]\n",
      "\n",
      "--- 20/20 points. Returned correct values.\n",
      "\n",
      "Testing\n",
      "m = mse(w, n_inputs, n_hiddens_1, n_hiddens_2, n_outputs, X, T)\n",
      "\n",
      "\n",
      "--- 20/20 points. Returned correct values.\n",
      "\n",
      "Assignment2 Execution Grade is 80 / 80\n",
      "\n",
      "Your final assignment grade will be based on other tests.  Run additional tests\n",
      "of your own design to check your functions before checking in this notebook.\n",
      "\n",
      "Assignment2 FINAL GRADE is ___ / 100\n"
     ]
    }
   ],
   "source": [
    "%run -i A2grader.py"
   ]
  }
 ],
 "metadata": {
  "kernelspec": {
   "display_name": "Python 3",
   "language": "python",
   "name": "python3"
  },
  "language_info": {
   "codemirror_mode": {
    "name": "ipython",
    "version": 3
   },
   "file_extension": ".py",
   "mimetype": "text/x-python",
   "name": "python",
   "nbconvert_exporter": "python",
   "pygments_lexer": "ipython3",
   "version": "3.7.3"
  }
 },
 "nbformat": 4,
 "nbformat_minor": 2
}
